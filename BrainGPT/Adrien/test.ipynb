{
 "cells": [
  {
   "cell_type": "markdown",
   "metadata": {},
   "source": [
    "checker que tous les image_ids de CQ500p_instruction.json existent dans CQ500p.json"
   ]
  },
  {
   "cell_type": "code",
   "execution_count": 2,
   "metadata": {},
   "outputs": [
    {
     "name": "stdout",
     "output_type": "stream",
     "text": [
      "⚠️ Missing IDs: []\n",
      "⚠️ Missing files: []\n",
      "✅ Vérification terminée\n"
     ]
    }
   ],
   "source": [
    "import os, json\n",
    "\n",
    "data_dir = \"/home/tibia/Documents/LLM/BrainGPT/data\"\n",
    "ins_file = os.path.join(data_dir, \"CQ500p_instruction.json\")\n",
    "img_file = os.path.join(data_dir, \"CQ500p.json\")\n",
    "\n",
    "with open(ins_file) as f:\n",
    "    instructions = json.load(f)\n",
    "\n",
    "with open(img_file) as f:\n",
    "    mapping = json.load(f)\n",
    "\n",
    "missing_ids = []\n",
    "missing_files = []\n",
    "\n",
    "for ins in instructions[\"data\"].values():\n",
    "    for image_id in ins[\"image_ids\"]:\n",
    "        if image_id not in mapping:\n",
    "            missing_ids.append(image_id)\n",
    "        else:\n",
    "            if not os.path.exists(mapping[image_id]):\n",
    "                missing_files.append(mapping[image_id])\n",
    "\n",
    "print(\"⚠️ Missing IDs:\", missing_ids)\n",
    "print(\"⚠️ Missing files:\", missing_files)\n",
    "print(\"✅ Vérification terminée\")\n"
   ]
  },
  {
   "cell_type": "markdown",
   "metadata": {},
   "source": []
  },
  {
   "cell_type": "code",
   "execution_count": 3,
   "metadata": {},
   "outputs": [
    {
     "name": "stdout",
     "output_type": "stream",
     "text": [
      "Répertoire de travail actuel : /home/tibia/Documents/LLM/BrainGPT/Creativity\n",
      "Nouveau répertoire de travail : /home/tibia/Documents/LLM/BrainGPT/evaluation\n"
     ]
    }
   ],
   "source": [
    "\n",
    "\n",
    "import os\n",
    "\n",
    "# Afficher le répertoire de travail actuel\n",
    "print(\"Répertoire de travail actuel :\", os.getcwd())\n",
    "\n",
    "# Changer le répertoire de travail\n",
    "os.chdir('/home/tibia/Documents/LLM/BrainGPT/evaluation')\n",
    "\n",
    "# Vérifier que le changement a bien été effectué\n",
    "print(\"Nouveau répertoire de travail :\", os.getcwd())"
   ]
  },
  {
   "cell_type": "code",
   "execution_count": 8,
   "metadata": {},
   "outputs": [
    {
     "name": "stdout",
     "output_type": "stream",
     "text": [
      "Répertoire de travail actuel : /home/tibia/Documents/LLM/BrainGPT/evaluation\n",
      "dict_keys(['ID_441cea72_ID_4b13324a92.nii_slice00', 'ID_441cea72_ID_4b13324a92.nii_slice01', 'ID_441cea72_ID_4b13324a92.nii_slice02', 'ID_441cea72_ID_4b13324a92.nii_slice03', 'ID_441cea72_ID_4b13324a92.nii_slice04', 'ID_441cea72_ID_4b13324a92.nii_slice05', 'ID_441cea72_ID_4b13324a92.nii_slice06', 'ID_441cea72_ID_4b13324a92.nii_slice07', 'ID_441cea72_ID_4b13324a92.nii_slice08', 'ID_441cea72_ID_4b13324a92.nii_slice09', 'ID_441cea72_ID_4b13324a92.nii_slice10', 'ID_441cea72_ID_4b13324a92.nii_slice11', 'ID_441cea72_ID_4b13324a92.nii_slice12', 'ID_441cea72_ID_4b13324a92.nii_slice13', 'ID_441cea72_ID_4b13324a92.nii_slice14', 'ID_441cea72_ID_4b13324a92.nii_slice15', 'ID_441cea72_ID_4b13324a92.nii_slice16', 'ID_441cea72_ID_4b13324a92.nii_slice17', 'ID_441cea72_ID_4b13324a92.nii_slice18', 'ID_441cea72_ID_4b13324a92.nii_slice19', 'ID_441cea72_ID_4b13324a92.nii_slice20', 'ID_441cea72_ID_4b13324a92.nii_slice21', 'ID_441cea72_ID_4b13324a92.nii_slice22', 'ID_441cea72_ID_4b13324a92.nii_slice23', 'ID_4519652e_ID_9d291c8ab5.nii_slice00', 'ID_4519652e_ID_9d291c8ab5.nii_slice01', 'ID_4519652e_ID_9d291c8ab5.nii_slice02', 'ID_4519652e_ID_9d291c8ab5.nii_slice03', 'ID_4519652e_ID_9d291c8ab5.nii_slice04', 'ID_4519652e_ID_9d291c8ab5.nii_slice05', 'ID_4519652e_ID_9d291c8ab5.nii_slice06', 'ID_4519652e_ID_9d291c8ab5.nii_slice07', 'ID_4519652e_ID_9d291c8ab5.nii_slice08', 'ID_4519652e_ID_9d291c8ab5.nii_slice09', 'ID_4519652e_ID_9d291c8ab5.nii_slice10', 'ID_4519652e_ID_9d291c8ab5.nii_slice11', 'ID_4519652e_ID_9d291c8ab5.nii_slice12', 'ID_4519652e_ID_9d291c8ab5.nii_slice13', 'ID_4519652e_ID_9d291c8ab5.nii_slice14', 'ID_4519652e_ID_9d291c8ab5.nii_slice15', 'ID_4519652e_ID_9d291c8ab5.nii_slice16', 'ID_4519652e_ID_9d291c8ab5.nii_slice17', 'ID_4519652e_ID_9d291c8ab5.nii_slice18', 'ID_4519652e_ID_9d291c8ab5.nii_slice19', 'ID_4519652e_ID_9d291c8ab5.nii_slice20', 'ID_4519652e_ID_9d291c8ab5.nii_slice21', 'ID_4519652e_ID_9d291c8ab5.nii_slice22', 'ID_4519652e_ID_9d291c8ab5.nii_slice23', 'ID_46a4e5b5_ID_2a037d3a2e.nii_slice00', 'ID_46a4e5b5_ID_2a037d3a2e.nii_slice01', 'ID_46a4e5b5_ID_2a037d3a2e.nii_slice02', 'ID_46a4e5b5_ID_2a037d3a2e.nii_slice03', 'ID_46a4e5b5_ID_2a037d3a2e.nii_slice04', 'ID_46a4e5b5_ID_2a037d3a2e.nii_slice05', 'ID_46a4e5b5_ID_2a037d3a2e.nii_slice06', 'ID_46a4e5b5_ID_2a037d3a2e.nii_slice07', 'ID_46a4e5b5_ID_2a037d3a2e.nii_slice08', 'ID_46a4e5b5_ID_2a037d3a2e.nii_slice09', 'ID_46a4e5b5_ID_2a037d3a2e.nii_slice10', 'ID_46a4e5b5_ID_2a037d3a2e.nii_slice11', 'ID_46a4e5b5_ID_2a037d3a2e.nii_slice12', 'ID_46a4e5b5_ID_2a037d3a2e.nii_slice13', 'ID_46a4e5b5_ID_2a037d3a2e.nii_slice14', 'ID_46a4e5b5_ID_2a037d3a2e.nii_slice15', 'ID_46a4e5b5_ID_2a037d3a2e.nii_slice16', 'ID_46a4e5b5_ID_2a037d3a2e.nii_slice17', 'ID_46a4e5b5_ID_2a037d3a2e.nii_slice18', 'ID_46a4e5b5_ID_2a037d3a2e.nii_slice19', 'ID_46a4e5b5_ID_2a037d3a2e.nii_slice20', 'ID_46a4e5b5_ID_2a037d3a2e.nii_slice21', 'ID_46a4e5b5_ID_2a037d3a2e.nii_slice22', 'ID_46a4e5b5_ID_2a037d3a2e.nii_slice23'])\n",
      "dict_values(['/home/tibia/Documents/LLM/BrainGPT/data/ID_441cea72_ID_4b13324a92.nii_slice00.png', '/home/tibia/Documents/LLM/BrainGPT/data/ID_441cea72_ID_4b13324a92.nii_slice01.png', '/home/tibia/Documents/LLM/BrainGPT/data/ID_441cea72_ID_4b13324a92.nii_slice02.png', '/home/tibia/Documents/LLM/BrainGPT/data/ID_441cea72_ID_4b13324a92.nii_slice03.png', '/home/tibia/Documents/LLM/BrainGPT/data/ID_441cea72_ID_4b13324a92.nii_slice04.png', '/home/tibia/Documents/LLM/BrainGPT/data/ID_441cea72_ID_4b13324a92.nii_slice05.png', '/home/tibia/Documents/LLM/BrainGPT/data/ID_441cea72_ID_4b13324a92.nii_slice06.png', '/home/tibia/Documents/LLM/BrainGPT/data/ID_441cea72_ID_4b13324a92.nii_slice07.png', '/home/tibia/Documents/LLM/BrainGPT/data/ID_441cea72_ID_4b13324a92.nii_slice08.png', '/home/tibia/Documents/LLM/BrainGPT/data/ID_441cea72_ID_4b13324a92.nii_slice09.png', '/home/tibia/Documents/LLM/BrainGPT/data/ID_441cea72_ID_4b13324a92.nii_slice10.png', '/home/tibia/Documents/LLM/BrainGPT/data/ID_441cea72_ID_4b13324a92.nii_slice11.png', '/home/tibia/Documents/LLM/BrainGPT/data/ID_441cea72_ID_4b13324a92.nii_slice12.png', '/home/tibia/Documents/LLM/BrainGPT/data/ID_441cea72_ID_4b13324a92.nii_slice13.png', '/home/tibia/Documents/LLM/BrainGPT/data/ID_441cea72_ID_4b13324a92.nii_slice14.png', '/home/tibia/Documents/LLM/BrainGPT/data/ID_441cea72_ID_4b13324a92.nii_slice15.png', '/home/tibia/Documents/LLM/BrainGPT/data/ID_441cea72_ID_4b13324a92.nii_slice16.png', '/home/tibia/Documents/LLM/BrainGPT/data/ID_441cea72_ID_4b13324a92.nii_slice17.png', '/home/tibia/Documents/LLM/BrainGPT/data/ID_441cea72_ID_4b13324a92.nii_slice18.png', '/home/tibia/Documents/LLM/BrainGPT/data/ID_441cea72_ID_4b13324a92.nii_slice19.png', '/home/tibia/Documents/LLM/BrainGPT/data/ID_441cea72_ID_4b13324a92.nii_slice20.png', '/home/tibia/Documents/LLM/BrainGPT/data/ID_441cea72_ID_4b13324a92.nii_slice21.png', '/home/tibia/Documents/LLM/BrainGPT/data/ID_441cea72_ID_4b13324a92.nii_slice22.png', '/home/tibia/Documents/LLM/BrainGPT/data/ID_441cea72_ID_4b13324a92.nii_slice23.png', '/home/tibia/Documents/LLM/BrainGPT/data/ID_4519652e_ID_9d291c8ab5.nii_slice00.png', '/home/tibia/Documents/LLM/BrainGPT/data/ID_4519652e_ID_9d291c8ab5.nii_slice01.png', '/home/tibia/Documents/LLM/BrainGPT/data/ID_4519652e_ID_9d291c8ab5.nii_slice02.png', '/home/tibia/Documents/LLM/BrainGPT/data/ID_4519652e_ID_9d291c8ab5.nii_slice03.png', '/home/tibia/Documents/LLM/BrainGPT/data/ID_4519652e_ID_9d291c8ab5.nii_slice04.png', '/home/tibia/Documents/LLM/BrainGPT/data/ID_4519652e_ID_9d291c8ab5.nii_slice05.png', '/home/tibia/Documents/LLM/BrainGPT/data/ID_4519652e_ID_9d291c8ab5.nii_slice06.png', '/home/tibia/Documents/LLM/BrainGPT/data/ID_4519652e_ID_9d291c8ab5.nii_slice07.png', '/home/tibia/Documents/LLM/BrainGPT/data/ID_4519652e_ID_9d291c8ab5.nii_slice08.png', '/home/tibia/Documents/LLM/BrainGPT/data/ID_4519652e_ID_9d291c8ab5.nii_slice09.png', '/home/tibia/Documents/LLM/BrainGPT/data/ID_4519652e_ID_9d291c8ab5.nii_slice10.png', '/home/tibia/Documents/LLM/BrainGPT/data/ID_4519652e_ID_9d291c8ab5.nii_slice11.png', '/home/tibia/Documents/LLM/BrainGPT/data/ID_4519652e_ID_9d291c8ab5.nii_slice12.png', '/home/tibia/Documents/LLM/BrainGPT/data/ID_4519652e_ID_9d291c8ab5.nii_slice13.png', '/home/tibia/Documents/LLM/BrainGPT/data/ID_4519652e_ID_9d291c8ab5.nii_slice14.png', '/home/tibia/Documents/LLM/BrainGPT/data/ID_4519652e_ID_9d291c8ab5.nii_slice15.png', '/home/tibia/Documents/LLM/BrainGPT/data/ID_4519652e_ID_9d291c8ab5.nii_slice16.png', '/home/tibia/Documents/LLM/BrainGPT/data/ID_4519652e_ID_9d291c8ab5.nii_slice17.png', '/home/tibia/Documents/LLM/BrainGPT/data/ID_4519652e_ID_9d291c8ab5.nii_slice18.png', '/home/tibia/Documents/LLM/BrainGPT/data/ID_4519652e_ID_9d291c8ab5.nii_slice19.png', '/home/tibia/Documents/LLM/BrainGPT/data/ID_4519652e_ID_9d291c8ab5.nii_slice20.png', '/home/tibia/Documents/LLM/BrainGPT/data/ID_4519652e_ID_9d291c8ab5.nii_slice21.png', '/home/tibia/Documents/LLM/BrainGPT/data/ID_4519652e_ID_9d291c8ab5.nii_slice22.png', '/home/tibia/Documents/LLM/BrainGPT/data/ID_4519652e_ID_9d291c8ab5.nii_slice23.png', '/home/tibia/Documents/LLM/BrainGPT/data/ID_46a4e5b5_ID_2a037d3a2e.nii_slice00.png', '/home/tibia/Documents/LLM/BrainGPT/data/ID_46a4e5b5_ID_2a037d3a2e.nii_slice01.png', '/home/tibia/Documents/LLM/BrainGPT/data/ID_46a4e5b5_ID_2a037d3a2e.nii_slice02.png', '/home/tibia/Documents/LLM/BrainGPT/data/ID_46a4e5b5_ID_2a037d3a2e.nii_slice03.png', '/home/tibia/Documents/LLM/BrainGPT/data/ID_46a4e5b5_ID_2a037d3a2e.nii_slice04.png', '/home/tibia/Documents/LLM/BrainGPT/data/ID_46a4e5b5_ID_2a037d3a2e.nii_slice05.png', '/home/tibia/Documents/LLM/BrainGPT/data/ID_46a4e5b5_ID_2a037d3a2e.nii_slice06.png', '/home/tibia/Documents/LLM/BrainGPT/data/ID_46a4e5b5_ID_2a037d3a2e.nii_slice07.png', '/home/tibia/Documents/LLM/BrainGPT/data/ID_46a4e5b5_ID_2a037d3a2e.nii_slice08.png', '/home/tibia/Documents/LLM/BrainGPT/data/ID_46a4e5b5_ID_2a037d3a2e.nii_slice09.png', '/home/tibia/Documents/LLM/BrainGPT/data/ID_46a4e5b5_ID_2a037d3a2e.nii_slice10.png', '/home/tibia/Documents/LLM/BrainGPT/data/ID_46a4e5b5_ID_2a037d3a2e.nii_slice11.png', '/home/tibia/Documents/LLM/BrainGPT/data/ID_46a4e5b5_ID_2a037d3a2e.nii_slice12.png', '/home/tibia/Documents/LLM/BrainGPT/data/ID_46a4e5b5_ID_2a037d3a2e.nii_slice13.png', '/home/tibia/Documents/LLM/BrainGPT/data/ID_46a4e5b5_ID_2a037d3a2e.nii_slice14.png', '/home/tibia/Documents/LLM/BrainGPT/data/ID_46a4e5b5_ID_2a037d3a2e.nii_slice15.png', '/home/tibia/Documents/LLM/BrainGPT/data/ID_46a4e5b5_ID_2a037d3a2e.nii_slice16.png', '/home/tibia/Documents/LLM/BrainGPT/data/ID_46a4e5b5_ID_2a037d3a2e.nii_slice17.png', '/home/tibia/Documents/LLM/BrainGPT/data/ID_46a4e5b5_ID_2a037d3a2e.nii_slice18.png', '/home/tibia/Documents/LLM/BrainGPT/data/ID_46a4e5b5_ID_2a037d3a2e.nii_slice19.png', '/home/tibia/Documents/LLM/BrainGPT/data/ID_46a4e5b5_ID_2a037d3a2e.nii_slice20.png', '/home/tibia/Documents/LLM/BrainGPT/data/ID_46a4e5b5_ID_2a037d3a2e.nii_slice21.png', '/home/tibia/Documents/LLM/BrainGPT/data/ID_46a4e5b5_ID_2a037d3a2e.nii_slice22.png', '/home/tibia/Documents/LLM/BrainGPT/data/ID_46a4e5b5_ID_2a037d3a2e.nii_slice23.png'])\n"
     ]
    }
   ],
   "source": [
    "from PIL import Image\n",
    "import json\n",
    "\n",
    "print (\"Répertoire de travail actuel :\", os.getcwd())\n",
    "\n",
    "with open(\"/home/tibia/Documents/LLM/BrainGPT/data/CQ500p.json\") as f:\n",
    "    data = json.load(f)\n",
    "    print (data.keys())\n",
    "    print (data.values())\n",
    "\n",
    "\n",
    "for k,v in data.items():\n",
    "    try:\n",
    "        img = Image.open(v)\n",
    "        img.load()\n",
    "    except Exception as e:\n",
    "        print(k, v, e)"
   ]
  }
 ],
 "metadata": {
  "kernelspec": {
   "display_name": "braingpt_env",
   "language": "python",
   "name": "python3"
  },
  "language_info": {
   "codemirror_mode": {
    "name": "ipython",
    "version": 3
   },
   "file_extension": ".py",
   "mimetype": "text/x-python",
   "name": "python",
   "nbconvert_exporter": "python",
   "pygments_lexer": "ipython3",
   "version": "3.10.12"
  }
 },
 "nbformat": 4,
 "nbformat_minor": 2
}
